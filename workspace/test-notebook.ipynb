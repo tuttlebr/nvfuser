{
 "cells": [
  {
   "cell_type": "code",
   "execution_count": null,
   "id": "798256cb-2dde-4e13-9eb0-a41b808ef38e",
   "metadata": {},
   "outputs": [],
   "source": [
    "!nvidia-smi -L"
   ]
  },
  {
   "cell_type": "code",
   "execution_count": null,
   "id": "c8310258-f565-47eb-888a-b351bacb1257",
   "metadata": {},
   "outputs": [],
   "source": [
    "import torch\n",
    "import torch.nn as nn\n",
    "import torchvision.transforms as T\n",
    "from torchvision.io import read_image\n",
    "from torchvision.models import ResNet18_Weights\n",
    "\n",
    "from time import time\n",
    "import json"
   ]
  },
  {
   "cell_type": "code",
   "execution_count": null,
   "id": "54c65bff-771b-4c4a-ad9c-f603f3e4b76d",
   "metadata": {},
   "outputs": [],
   "source": [
    "torch.set_float32_matmul_precision(\"high\")\n",
    "torch.manual_seed(1)"
   ]
  },
  {
   "cell_type": "code",
   "execution_count": null,
   "id": "8d8c996b-08c3-4ed8-a12d-684871b8bdd3",
   "metadata": {},
   "outputs": [],
   "source": [
    "class Predictor(nn.Module):\n",
    "    def __init__(self, resnet18):\n",
    "        super().__init__()\n",
    "        self.resnet18 = resnet18.eval()\n",
    "        self.transforms = nn.Sequential(\n",
    "            T.Resize(\n",
    "                [\n",
    "                    256,\n",
    "                ]\n",
    "            ),  # We use single int value inside a list due to torchscript type restrictions\n",
    "            T.CenterCrop(224),\n",
    "            T.ConvertImageDtype(torch.float),\n",
    "            T.Normalize([0.485, 0.456, 0.406], [0.229, 0.224, 0.225]),\n",
    "        )\n",
    "\n",
    "    def forward(self, x: torch.Tensor) -> torch.Tensor:\n",
    "        with torch.no_grad():\n",
    "            x = self.transforms(x)\n",
    "            y_pred = self.resnet18(x)\n",
    "            return y_pred.argmax(dim=1)"
   ]
  },
  {
   "cell_type": "code",
   "execution_count": null,
   "id": "78dcb4e2-a66a-431a-85c7-aeb0d5cbc52f",
   "metadata": {},
   "outputs": [],
   "source": [
    "def pct_diff(t1, t2):\n",
    "    n = abs(t1 - t2)\n",
    "    d = abs(t1 + t2) / 2\n",
    "    return round((n / d) * 100, 3)"
   ]
  },
  {
   "cell_type": "code",
   "execution_count": null,
   "id": "d292210e-cd04-4005-9045-4fdd15f21295",
   "metadata": {},
   "outputs": [],
   "source": [
    "model = torch.hub.load(\n",
    "    \"pytorch/vision:v0.10.0\",\n",
    "    model=\"resnet18\",\n",
    "    weights=ResNet18_Weights.DEFAULT,\n",
    "    progress=False,\n",
    ")\n",
    "opt_model = torch.compile(model=model, backend=\"ts_nvfuser\")\n",
    "\n",
    "with open(\"imagenet_class_index.json\", \"r\") as labels_file:\n",
    "    labels = json.load(labels_file)"
   ]
  },
  {
   "cell_type": "code",
   "execution_count": null,
   "id": "e1c4210a-d37f-47c6-8505-141cd8b35006",
   "metadata": {},
   "outputs": [],
   "source": [
    "default_predictor = Predictor(model).to(\"cuda\")\n",
    "opt_predictor = Predictor(opt_model).to(\"cuda\")"
   ]
  },
  {
   "cell_type": "code",
   "execution_count": null,
   "id": "b0d99401-853b-4d82-bd97-e8002a9fb221",
   "metadata": {},
   "outputs": [],
   "source": [
    "size = (800, 600)\n",
    "dog1 = read_image(\"dog_1.jpg\")\n",
    "dog2 = read_image(\"dog_2.jpg\")\n",
    "dog1 = T.Resize(size=size)(dog1)\n",
    "dog2 = T.Resize(size=size)(dog2)\n",
    "batch = torch.stack([dog1, dog2] * 16).to(\"cuda\")"
   ]
  },
  {
   "cell_type": "code",
   "execution_count": null,
   "id": "2626fe16-2f37-4d15-9894-5ec889613481",
   "metadata": {},
   "outputs": [],
   "source": [
    "default_predictor_result = default_predictor(batch)\n",
    "for i, pred in enumerate(default_predictor_result):\n",
    "    print(f\"Prediction for Dog {i + 1}: {labels[str(pred.item())]}\")"
   ]
  },
  {
   "cell_type": "code",
   "execution_count": null,
   "id": "5f93df19-2a00-4623-a0c3-4a0c77cd27a8",
   "metadata": {},
   "outputs": [],
   "source": [
    "opt_predictor_result = opt_predictor(batch)\n",
    "for i, pred in enumerate(opt_predictor_result):\n",
    "    print(f\"Prediction for Dog {i + 1}: {labels[str(pred.item())]}\")"
   ]
  },
  {
   "cell_type": "code",
   "execution_count": null,
   "id": "55e0d319-a812-4dfb-adb2-e549b6b4aa06",
   "metadata": {},
   "outputs": [],
   "source": [
    "default_start = time()\n",
    "for i in range(1000):\n",
    "    default_predictor(batch)\n",
    "default_stop = time()\n",
    "default_runtime = default_stop - default_start"
   ]
  },
  {
   "cell_type": "code",
   "execution_count": null,
   "id": "9706a418-b704-463c-a1b2-5702ac00c1f7",
   "metadata": {},
   "outputs": [],
   "source": [
    "opt_start = time()\n",
    "for i in range(1000):\n",
    "    opt_predictor(batch)\n",
    "opt_stop = time()\n",
    "opt_runtime = opt_stop - opt_start"
   ]
  },
  {
   "cell_type": "code",
   "execution_count": null,
   "id": "6470c97d-9b66-4cd8-8967-df38838039d6",
   "metadata": {},
   "outputs": [],
   "source": [
    "pct_diff(default_runtime, opt_runtime)"
   ]
  }
 ],
 "metadata": {
  "kernelspec": {
   "display_name": "Python 3 (ipykernel)",
   "language": "python",
   "name": "python3"
  },
  "language_info": {
   "codemirror_mode": {
    "name": "ipython",
    "version": 3
   },
   "file_extension": ".py",
   "mimetype": "text/x-python",
   "name": "python",
   "nbconvert_exporter": "python",
   "pygments_lexer": "ipython3",
   "version": "3.10.8"
  }
 },
 "nbformat": 4,
 "nbformat_minor": 5
}
